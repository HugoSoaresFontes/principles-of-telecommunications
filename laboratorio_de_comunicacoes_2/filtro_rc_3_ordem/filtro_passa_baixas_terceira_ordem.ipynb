{
 "cells": [
  {
   "cell_type": "markdown",
   "metadata": {},
   "source": [
    "# Filtro passa baixas passivo com frequência de corde 4 kHz e atenuação de 20 dB/década após a Fc "
   ]
  },
  {
   "cell_type": "markdown",
   "metadata": {},
   "source": [
    "      O presente trabalho tem como objetivo analisar o projeto de um filtro passa-baixas passivo com frequência de corte de 4 kHz e atenuação de 60 dB por década após a frequência de corte.  Para tanto, são necessários 3 capacitores, como pode ser visto na Figura 1.\n",
    "\n",
    "<img src=\"static/Projeto - Filtro de 3ª Ordem (1).png\">\n",
    "<center>Figura 1 - Circuito para um filtro passa-baixas passivo de terceira ordem.</center>\n"
   ]
  },
  {
   "cell_type": "markdown",
   "metadata": {},
   "source": [
    "      Podemos analisar esse circuito como sendo composto por 3 estágios, como 3 filtros passa-baixas de primeira ordem em cascata. Para tanto, a impedância do estágio 2 deve ser significativamente maior que a impedância do estágio 1 e significativamente menor que a do estágio 3 . Por esse viés, consideramos que a resistência R2 é 10 vezes maior que R1 e 10 vezes menor R3. Pelo mesmo princípio, como a reatância é inversamente proporcional à capacitância, consideramos a capacitância C2 10 vezes menor que C1 e 10 vezes maior que C3. Essas definições podem ser ilustradas na Figura 2.  \n",
    "\n",
    "<img src=\"static/Projeto - Filtro de 3ª Ordem (2).png\">\n",
    "<center>Figura 2 - Circuito para um filtro passa-baixas passivo de terceira ordem.</center>\n",
    "\n"
   ]
  },
  {
   "cell_type": "markdown",
   "metadata": {},
   "source": [
    "      Para encontrar a função de transferência G(s) do filtro, considerando a impedância de um estágio muito maior que a do estágio anterior, podemos aproximar as tensões V01, V02 e Vout por divisores de tensão simples, de modo que: "
   ]
  },
  {
   "cell_type": "markdown",
   "metadata": {},
   "source": [
    "$$V_{01} = V_{in} \\frac{\\frac{1}{sC}}{R+\\frac{1}{sC}}$$\n",
    "   $$V_{02} = V_{01} \\frac{\\frac{1}{sC}}{10R+\\frac{1}{s0.1C}}$$\n",
    "   $$V_{out} = V_{02} \\frac{\\frac{1}{sC}}{100R+\\frac{1}{s0.001C}}$$\n",
    "   $$V_{out} = V_{in} (\\frac{\\frac{1}{sC}}{R+\\frac{1}{sC}})^3$$\n",
    "   $$G(s) = \\frac{V_{out}}{V_{in}} = (\\frac{\\frac{1}{sC}}{R+\\frac{1}{sC}})^3$$\n",
    "$$G(s)  = (\\frac{1}{sRC+1})^3 $$\n"
   ]
  },
  {
   "cell_type": "markdown",
   "metadata": {
    "collapsed": true
   },
   "source": [
    "      Nosso filtro deve ter um frequência de corte de 4 kHz, isso significa que para uma frequência de 4 kHz a atenuação do filtro deve ser de -3dBm. Com outras palavras, o ganho do filtro deve ser 0,707 V/V para uma frequência de 4 kHz. Tal que: \n"
   ]
  },
  {
   "cell_type": "markdown",
   "metadata": {},
   "source": [
    "\n",
    " $$G(2\\pi4\\cdot10^{3}) = |(\\frac{1}{2\\pi4\\cdot10^{3}RC+1}|^3 = 0.707$$\n",
    " \n",
    " $$|\\frac{1}{2\\pi4\\cdot10^{3}RC+1}| = \\sqrt[3]{0.707}$$\n",
    "  \n",
    " $$\\frac{1}{\\sqrt{(2\\pi4\\cdot10^{3}RC)^2+1}} = 0.89$$\n",
    " \n",
    " $$\\sqrt{(2\\pi4\\cdot10^{3}RC)^2+1} = 0.89^{-1}$$\n",
    "\n",
    " $$ 2\\pi4\\cdot10^{3}RC^2+1 = 1.1236^2 $$\n",
    "\n",
    " $$ 2\\pi4\\cdot10^{3}RC = \\sqrt{1.2625-1} $$\n",
    "\n",
    " $$ RC = \\frac{\\sqrt{1.2625-1}}{2\\pi4\\cdot10^{3}}$$\n",
    " \n",
    " $$ RC = 2.0385 \\cdot 10^{-5} $$"
   ]
  },
  {
   "cell_type": "markdown",
   "metadata": {},
   "source": [
    "      Assim, para atendermos a proporção de RC calculada e devido a disponibilidade de valores comerciais dos capacitores, definimos C = 100 nF. Desse modo, teoricamente: \n"
   ]
  },
  {
   "cell_type": "markdown",
   "metadata": {},
   "source": [
    "$$ C_1 = 100 nF $$\n",
    "$$ R_1 = 203.85 \\Omega $$\n",
    "$$ C_2 = 10 nF $$\n",
    "$$ R_2 = 2038.5 \\Omega $$\n",
    "$$ C_3 = 1 nF $$\n",
    "$$ R_3 = 20385 \\Omega $$"
   ]
  },
  {
   "cell_type": "markdown",
   "metadata": {},
   "source": [
    "       Uma vez que encontramos a função de transferência do filtro e os valores de R e C desejados, geramos o gráfico do ganho teórico do filtro. "
   ]
  },
  {
   "cell_type": "code",
   "execution_count": 6,
   "metadata": {},
   "outputs": [
    {
     "ename": "ImportError",
     "evalue": "No module named 'sklearn'",
     "output_type": "error",
     "traceback": [
      "\u001b[0;31m---------------------------------------------------------------------------\u001b[0m",
      "\u001b[0;31mImportError\u001b[0m                               Traceback (most recent call last)",
      "\u001b[0;32m<ipython-input-6-09c1bf36ab83>\u001b[0m in \u001b[0;36m<module>\u001b[0;34m()\u001b[0m\n\u001b[1;32m      2\u001b[0m \u001b[0;32mimport\u001b[0m \u001b[0mnumpy\u001b[0m \u001b[0;32mas\u001b[0m \u001b[0mnp\u001b[0m\u001b[0;34m\u001b[0m\u001b[0m\n\u001b[1;32m      3\u001b[0m \u001b[0;32mimport\u001b[0m \u001b[0mmatplotlib\u001b[0m\u001b[0;34m.\u001b[0m\u001b[0mpyplot\u001b[0m \u001b[0;32mas\u001b[0m \u001b[0mplt\u001b[0m\u001b[0;34m\u001b[0m\u001b[0m\n\u001b[0;32m----> 4\u001b[0;31m \u001b[0;32mfrom\u001b[0m \u001b[0msklearn\u001b[0m\u001b[0;34m.\u001b[0m\u001b[0mmetrics\u001b[0m \u001b[0;32mimport\u001b[0m \u001b[0mmean_squared_error\u001b[0m\u001b[0;34m\u001b[0m\u001b[0m\n\u001b[0m\u001b[1;32m      5\u001b[0m \u001b[0;32mfrom\u001b[0m \u001b[0mcmath\u001b[0m \u001b[0;32mimport\u001b[0m \u001b[0mphase\u001b[0m\u001b[0;34m\u001b[0m\u001b[0m\n\u001b[1;32m      6\u001b[0m \u001b[0;34m\u001b[0m\u001b[0m\n",
      "\u001b[0;31mImportError\u001b[0m: No module named 'sklearn'"
     ]
    }
   ],
   "source": [
    "import math\n",
    "import numpy as np \n",
    "import matplotlib.pyplot as plt\n",
    "from sklearn.metrics import mean_squared_error \n",
    "from cmath import phase\n",
    "\n",
    "R = 203.85\n",
    "C = 100e-9 \n",
    "\n",
    "f = np.array([10, 20, 30, 40, 50, 60, 70, 80, 90, 100, 200, 300, 400, 500, 600, 700, 800, \n",
    "     900, 1000, 2000, 3000, 4000, 5000, 6000, 7000, 8000, 9000, 10000, 20000, \n",
    "     30000, 40000, 50000, 60000, 70000, 80000, 90000, 100000, 200000, 300000, \n",
    "     400000, 500000, 600000, 700000, 800000, 900000])"
   ]
  },
  {
   "cell_type": "code",
   "execution_count": null,
   "metadata": {},
   "outputs": [],
   "source": [
    "%matplotlib notebook\n",
    "\n",
    "g = np.zeros(len(f))\n",
    "\n",
    "def Av(fi): \n",
    "    return (1/math.sqrt(1 + (2 * math.pi * fi * R * C)**2))**3\n",
    "\n",
    "for i in range(len(f)): \n",
    "    g[i] = Av(f[i])\n",
    "\n",
    "plt.figure(figsize=(10,6))\n",
    "plt.xscale('log')\n",
    "plt.plot(f, g,'ro', f, g,'k')\n",
    "plt.title('(TEÓRICO) Filtro passa-baixas passivo de 3ª ordem: Av x f')\n",
    "plt.text(6000, 0.707, \"Frequência de corte teórica \\nf=%d kHz\" %4,  bbox=dict(facecolor='yellow', alpha=0.5))\n",
    "plt.axvline(x=4000, color='y', linestyle='--')\n",
    "plt.ylabel('V/V')\n",
    "plt.xlabel('f(Hz)')\n",
    "plt.plot(0,1)\n",
    "plt.grid()\n",
    "plt.show()\n"
   ]
  },
  {
   "cell_type": "code",
   "execution_count": null,
   "metadata": {},
   "outputs": [],
   "source": [
    "%matplotlib notebook\n",
    "\n",
    "fase = np.zeros(len(f))\n",
    "\n",
    "def defasagem(fi): \n",
    "    a = np.angle((1/(1 + 2*np.pi*fi*1j*R*C)**3), deg=True)\n",
    "    if a > 0: \n",
    "        return a -360 \n",
    "    else: \n",
    "        return a\n",
    "\n",
    "for i in range(len(f)): \n",
    "    fase[i] = defasagem(f[i])\n",
    "\n",
    "plt.figure(figsize=(10,6))\n",
    "plt.title(r\"(TEÓRICO) Filtro passa-baixas passivo de 3ª ordem: ${\\Theta}$ x f\")\n",
    "plt.xscale('log')\n",
    "plt.plot(f, fase,'ro', f, fase, 'k')\n",
    "plt.text(6000, -90, \"Frequência de corte teórica \\nf=%d kHz\" %4,  bbox=dict(facecolor='yellow', alpha=0.5))\n",
    "plt.axvline(x=4000, color='y', linestyle='--')\n",
    "plt.ylabel(r\"$\\Theta$\")\n",
    "plt.xlabel('f(Hz)')\n",
    "plt.grid()\n",
    "plt.show()"
   ]
  },
  {
   "cell_type": "markdown",
   "metadata": {
    "collapsed": true
   },
   "source": [
    "      Após montarmos o circuito, aplicamos uma tensão de 1 V na entrada e medimos a tensão na saída para diferentes frequências, como pode ser visto no Quadro 1.\n",
    " \n",
    "<img src=\"static/Projeto - Filtro de 3ª Ordem (3).png\">\n",
    "<center>Quadro 1 - Tensões de saída para diferentes frequências e Vin = 1V. </center>\n",
    "\n",
    "      Também aplicando uma tensão de 1 V na entrada, medimos o defasamento angular entre a tensão de entrada e a tensão de saída, como pode ser visto no Quadro 2. \n",
    " \n",
    "<img src=\"static/Projeto - Filtro de 3ª Ordem (4).png\">\n",
    "<center>Quadro 2 - Defasamento angular entre as tensões de entrada e saída. </center>"
   ]
  },
  {
   "cell_type": "code",
   "execution_count": 18,
   "metadata": {},
   "outputs": [],
   "source": [
    "from numpy import genfromtxt\n",
    "data = genfromtxt('static/filtro_3_ordem - tensao_saida.csv', delimiter=',')\n",
    "v = data[:, 1]\n",
    "t = data[:, 0]\n",
    "\n",
    "data = genfromtxt('static/filtro_3_ordem - defasamento.csv', delimiter=',')\n",
    "teta = data[:, 1]\n"
   ]
  },
  {
   "cell_type": "code",
   "execution_count": null,
   "metadata": {},
   "outputs": [],
   "source": []
  }
 ],
 "metadata": {
  "anaconda-cloud": {},
  "kernelspec": {
   "display_name": "Python 3",
   "language": "python",
   "name": "python3"
  },
  "language_info": {
   "codemirror_mode": {
    "name": "ipython",
    "version": 3
   },
   "file_extension": ".py",
   "mimetype": "text/x-python",
   "name": "python",
   "nbconvert_exporter": "python",
   "pygments_lexer": "ipython3",
   "version": "3.5.2"
  }
 },
 "nbformat": 4,
 "nbformat_minor": 1
}
